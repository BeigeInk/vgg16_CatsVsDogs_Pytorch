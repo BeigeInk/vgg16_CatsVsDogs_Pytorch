{
 "cells": [
  {
   "cell_type": "code",
   "execution_count": 13,
   "metadata": {},
   "outputs": [],
   "source": [
    "import torch\n",
    "import torch.nn as nn\n",
    "import torch.optim as optim\n",
    "import torch.utils.data as data\n",
    "import matplotlib.pyplot as plt\n",
    "import torchvision.transforms as transforms\n",
    "from PIL import Image\n",
    "import pandas as pd\n",
    "import numpy as np\n",
    "import math\n",
    "import time\n",
    "import os"
   ]
  },
  {
   "cell_type": "code",
   "execution_count": 22,
   "metadata": {},
   "outputs": [],
   "source": [
    "ORIGIN_DATA_SIZE = 12500\n",
    "TARGET_DATA_SIZE = 12500\n",
    "RATIO = 0.99\n",
    "EPOCH = 4\n",
    "BATCH_SIZE = 7\n",
    "LOSS_FUNC = nn.BCELoss()\n",
    "LR = 0.0001\n",
    "UPDATE = 5"
   ]
  },
  {
   "cell_type": "code",
   "execution_count": 15,
   "metadata": {},
   "outputs": [],
   "source": [
    "torch.cuda.empty_cache()\n",
    "INPUT_PATH = os.getcwd()+'\\\\kaggle'\n",
    "OUTPUT_PATH = os.getcwd()+'\\\\kaggle'"
   ]
  },
  {
   "cell_type": "code",
   "execution_count": 16,
   "metadata": {},
   "outputs": [],
   "source": [
    "TRANSFORM = transforms.Compose([transforms.Resize((256,256)),\n",
    "                                transforms.RandomCrop((224,224)),\n",
    "                                transforms.ToTensor(),\n",
    "                                transforms.Normalize((0.485,0.456,0.406),(0.229,0.224,0.225))\n",
    "                               ])"
   ]
  },
  {
   "cell_type": "code",
   "execution_count": 5,
   "metadata": {},
   "outputs": [],
   "source": [
    "class VGG(nn.Module):#16\n",
    "    def __init__(self):\n",
    "        super(VGG, self).__init__()\n",
    "        self.conv = nn.Sequential(\n",
    "            nn.Conv2d(in_channels = 3, out_channels = 64, kernel_size = 3, stride=1, padding=1),\n",
    "            nn.ReLU(inplace=True),\n",
    "            nn.Conv2d(in_channels = 64, out_channels = 64, kernel_size = 3, stride=1, padding=1),\n",
    "            nn.ReLU(inplace=True),\n",
    "            nn.MaxPool2d(2, 2),\n",
    "            nn.Conv2d(in_channels = 64, out_channels = 128, kernel_size = 3, stride=1, padding=1),\n",
    "            nn.ReLU(inplace=True),\n",
    "            nn.Conv2d(in_channels = 128, out_channels = 128, kernel_size = 3, stride=1, padding=1),\n",
    "            nn.ReLU(inplace=True),\n",
    "            nn.MaxPool2d(2, 2),\n",
    "            nn.Conv2d(in_channels = 128, out_channels = 256, kernel_size = 3, stride=1, padding=1),\n",
    "            nn.ReLU(inplace=True),\n",
    "            nn.Conv2d(in_channels = 256, out_channels = 256, kernel_size = 3, stride=1, padding=1),\n",
    "            nn.ReLU(inplace=True),\n",
    "            nn.Conv2d(in_channels = 256, out_channels = 256, kernel_size = 3, stride=1, padding=1),\n",
    "            nn.ReLU(inplace=True),\n",
    "            nn.MaxPool2d(2, 2),\n",
    "            nn.Conv2d(in_channels = 256, out_channels = 512, kernel_size = 3, stride=1, padding=1),\n",
    "            nn.ReLU(inplace=True),\n",
    "            nn.Conv2d(in_channels = 512, out_channels = 512, kernel_size = 3, stride=1, padding=1),\n",
    "            nn.ReLU(inplace=True),\n",
    "            nn.Conv2d(in_channels = 512, out_channels = 512, kernel_size = 3, stride=1, padding=1),\n",
    "            nn.ReLU(inplace=True),\n",
    "            nn.MaxPool2d(2, 2),\n",
    "            nn.Conv2d(in_channels = 512, out_channels = 512, kernel_size = 3, stride=1, padding=1),\n",
    "            nn.ReLU(inplace=True),\n",
    "            nn.Conv2d(in_channels = 512, out_channels = 512, kernel_size = 3, stride=1, padding=1),\n",
    "            nn.ReLU(inplace=True),\n",
    "            nn.Conv2d(in_channels = 512, out_channels = 512, kernel_size = 3, stride=1, padding=1),\n",
    "            nn.ReLU(inplace=True),\n",
    "            nn.MaxPool2d(2, 2),\n",
    "        )\n",
    "        self.fc = nn.Sequential(\n",
    "            nn.Linear(512*7*7,4096),\n",
    "            nn.ReLU(),\n",
    "            nn.Dropout(0.5),\n",
    "            nn.Linear(4096,4096),\n",
    "            nn.ReLU(),\n",
    "            nn.Dropout(0.5),\n",
    "            nn.Linear(4096,1000),\n",
    "            nn.ReLU(),\n",
    "            nn.Linear(1000,1),\n",
    "            nn.Sigmoid()\n",
    "        )\n",
    "    def forward(self, x):\n",
    "        x = self.conv(x)\n",
    "        x = x.view(x.shape[0], -1)\n",
    "        x = self.fc(x)\n",
    "        return x"
   ]
  },
  {
   "cell_type": "code",
   "execution_count": 56,
   "metadata": {},
   "outputs": [],
   "source": [
    "class VGG(nn.Module):#11\n",
    "    def __init__(self):\n",
    "        super(VGG, self).__init__()\n",
    "        self.conv = nn.Sequential()\n",
    "        i = 1; p = 1\n",
    "        self.conv.add_module('conv-{0}'.format(i),nn.Conv2d(in_channels=  3, out_channels= 64, kernel_size=3, stride=1, padding=1))\n",
    "        self.conv.add_module('ReLU-{0}'.format(i),nn.ReLU());i+=1\n",
    "        self.conv.add_module('LRN',nn.LocalResponseNorm(size=2))\n",
    "        self.conv.add_module('MaxPooling-{0}'.format(p),nn.MaxPool2d(kernel_size=2, stride=2));p+=1   # 224 -> 112\n",
    "        self.conv.add_module('conv-{0}'.format(i),nn.Conv2d(in_channels= 64, out_channels=128, kernel_size=3, stride=1, padding=1))\n",
    "        self.conv.add_module('ReLU-{0}'.format(i),nn.ReLU());i+=1\n",
    "        self.conv.add_module('MaxPooling-{0}'.format(p),nn.MaxPool2d(kernel_size=2, stride=2));p+=1   # 112 -> 56\n",
    "        self.conv.add_module('conv-{0}'.format(i),nn.Conv2d(in_channels=128, out_channels=256, kernel_size=3, stride=1, padding=1))\n",
    "        self.conv.add_module('ReLU-{0}'.format(i),nn.ReLU());i+=1\n",
    "        self.conv.add_module('conv-{0}'.format(i),nn.Conv2d(in_channels=256, out_channels=256, kernel_size=3, stride=1, padding=1))\n",
    "        self.conv.add_module('ReLU-{0}'.format(i),nn.ReLU());i+=1\n",
    "        self.conv.add_module('MaxPooling-{0}'.format(p),nn.MaxPool2d(kernel_size=2, stride=2));p+=1   # 56 -> 28\n",
    "        self.conv.add_module('conv-{0}'.format(i),nn.Conv2d(in_channels=256, out_channels=512, kernel_size=3, stride=1, padding=1))\n",
    "        self.conv.add_module('ReLU-{0}'.format(i),nn.ReLU());i+=1\n",
    "        self.conv.add_module('conv-{0}'.format(i),nn.Conv2d(in_channels=512, out_channels=512, kernel_size=3, stride=1, padding=1))\n",
    "        self.conv.add_module('ReLU-{0}'.format(i),nn.ReLU());i+=1\n",
    "        self.conv.add_module('MaxPooling-{0}'.format(p),nn.MaxPool2d(kernel_size=2, stride=2));p+=1   # 28 -> 14\n",
    "        self.conv.add_module('conv-{0}'.format(i),nn.Conv2d(in_channels=512, out_channels=512, kernel_size=3, stride=1, padding=1))\n",
    "        self.conv.add_module('ReLU-{0}'.format(i),nn.ReLU());i+=1\n",
    "        self.conv.add_module('conv-{0}'.format(i),nn.Conv2d(in_channels=512, out_channels=512, kernel_size=3, stride=1, padding=1))\n",
    "        self.conv.add_module('ReLU-{0}'.format(i),nn.ReLU());i+=1\n",
    "        self.conv.add_module('MaxPooling-{0}'.format(p),nn.MaxPool2d(kernel_size=2, stride=2));p+=1   # 14 -> 7\n",
    "        self.fc = nn.Sequential(\n",
    "            nn.Linear(512*7*7,4096),\n",
    "            nn.ReLU(),\n",
    "            nn.Dropout(0.5),\n",
    "            nn.Linear(4096,4096),\n",
    "            nn.ReLU(),\n",
    "            nn.Dropout(0.5),\n",
    "            nn.Linear(4096,1000),\n",
    "            nn.ReLU(),\n",
    "            nn.Linear(1000,1),\n",
    "            nn.Sigmoid()\n",
    "        )\n",
    "    def forward(self, x):\n",
    "        x = self.conv(x)\n",
    "        x = x.view(x.shape[0], -1)\n",
    "        x = self.fc(x)\n",
    "        return x"
   ]
  },
  {
   "cell_type": "code",
   "execution_count": 6,
   "metadata": {},
   "outputs": [],
   "source": [
    "class ImageDataset(data.Dataset):\n",
    "    def __init__(self, image_list, label_list):\n",
    "        self.data = image_list\n",
    "        self.label = label_list\n",
    " \n",
    "    def __getitem__(self, index):\n",
    "        global TRANSFORM\n",
    "        img = Image.open(self.data[index])\n",
    "        data = TRANSFORM(img)\n",
    "        img.close()\n",
    "        return data.cuda(),torch.cuda.FloatTensor([self.label[index]])\n",
    " \n",
    "    def __len__(self):\n",
    "        return len(self.data)"
   ]
  },
  {
   "cell_type": "code",
   "execution_count": 7,
   "metadata": {},
   "outputs": [],
   "source": [
    "def load():\n",
    "    np.random.seed(998244353)\n",
    "    torch.manual_seed(998244353)\n",
    "    image_list = []\n",
    "    label_list = []\n",
    "    for i in range(ORIGIN_DATA_SIZE):\n",
    "        image_list.append(INPUT_PATH+\"\\\\train\\\\cat.{0}.jpg\".format(i))\n",
    "        label_list.append(0)\n",
    "        image_list.append(INPUT_PATH+\"\\\\train\\\\dog.{0}.jpg\".format(i))\n",
    "        label_list.append(1)\n",
    "    n = int(ORIGIN_DATA_SIZE*2*RATIO)\n",
    "    train_data = ImageDataset(image_list[:n],label_list[:n])\n",
    "    validate_data = ImageDataset(image_list[n:],label_list[n:])\n",
    "    image_list = []\n",
    "    for i in range(TARGET_DATA_SIZE):\n",
    "        image_list.append(INPUT_PATH+\"\\\\test1\\\\{0}.jpg\".format(i+1))\n",
    "    test_data = ImageDataset(image_list,[0]*TARGET_DATA_SIZE)\n",
    "    # np.random.seed()\n",
    "    # torch.seed()\n",
    "    return train_data,validate_data,test_data"
   ]
  },
  {
   "cell_type": "code",
   "execution_count": 23,
   "metadata": {},
   "outputs": [
    {
     "name": "stdout",
     "output_type": "stream",
     "text": [
      "读取数据集完成时间 0.0190 s.\n"
     ]
    }
   ],
   "source": [
    "time_start=time.time()\n",
    "PROGRAM_START = time.time()\n",
    "train_data,validate_data,test_data = load()\n",
    "print(\"读取数据集完成时间 %.4f s.\"%(time.time()-PROGRAM_START))"
   ]
  },
  {
   "cell_type": "code",
   "execution_count": 24,
   "metadata": {},
   "outputs": [
    {
     "data": {
      "text/plain": [
       "True"
      ]
     },
     "execution_count": 24,
     "metadata": {},
     "output_type": "execute_result"
    }
   ],
   "source": [
    "torch.cuda.is_available()"
   ]
  },
  {
   "cell_type": "code",
   "execution_count": 25,
   "metadata": {},
   "outputs": [
    {
     "data": {
      "text/plain": [
       "1"
      ]
     },
     "execution_count": 25,
     "metadata": {},
     "output_type": "execute_result"
    }
   ],
   "source": [
    "torch.cuda.device_count()"
   ]
  },
  {
   "cell_type": "code",
   "execution_count": 26,
   "metadata": {},
   "outputs": [
    {
     "data": {
      "text/plain": [
       "'NVIDIA GeForce RTX 2060'"
      ]
     },
     "execution_count": 26,
     "metadata": {},
     "output_type": "execute_result"
    }
   ],
   "source": [
    "torch.cuda.get_device_name(0)"
   ]
  },
  {
   "cell_type": "code",
   "execution_count": 27,
   "metadata": {},
   "outputs": [
    {
     "name": "stdout",
     "output_type": "stream",
     "text": [
      "轮次 #1\\4:\n",
      "batch 1\\3536: Loss = 0.692981\n",
      "batch 101\\3536: Loss = 0.698816\n",
      "batch 201\\3536: Loss = 0.689805\n",
      "batch 301\\3536: Loss = 0.705055\n",
      "batch 401\\3536: Loss = 0.703498\n",
      "batch 501\\3536: Loss = 0.688590\n",
      "batch 601\\3536: Loss = 0.786001\n",
      "batch 701\\3536: Loss = 0.684260\n",
      "batch 801\\3536: Loss = 0.708548\n",
      "batch 901\\3536: Loss = 0.612567\n",
      "batch 1001\\3536: Loss = 0.713203\n",
      "batch 1101\\3536: Loss = 0.650091\n",
      "batch 1201\\3536: Loss = 0.608355\n",
      "batch 1301\\3536: Loss = 0.572527\n",
      "batch 1401\\3536: Loss = 1.070547\n",
      "batch 1501\\3536: Loss = 0.537307\n",
      "batch 1601\\3536: Loss = 0.555364\n",
      "batch 1701\\3536: Loss = 0.502724\n",
      "batch 1801\\3536: Loss = 0.580899\n",
      "batch 1901\\3536: Loss = 0.537893\n",
      "batch 2001\\3536: Loss = 0.892502\n",
      "batch 2101\\3536: Loss = 0.583576\n",
      "batch 2201\\3536: Loss = 0.715771\n",
      "batch 2301\\3536: Loss = 0.591309\n",
      "batch 2401\\3536: Loss = 0.694536\n",
      "batch 2501\\3536: Loss = 0.781403\n",
      "batch 2601\\3536: Loss = 0.333874\n",
      "batch 2701\\3536: Loss = 0.685296\n",
      "batch 2801\\3536: Loss = 0.570198\n",
      "batch 2901\\3536: Loss = 0.512869\n",
      "batch 3001\\3536: Loss = 0.468991\n",
      "batch 3101\\3536: Loss = 0.761126\n",
      "batch 3201\\3536: Loss = 0.764870\n",
      "batch 3301\\3536: Loss = 0.366407\n",
      "batch 3401\\3536: Loss = 0.434444\n",
      "batch 3501\\3536: Loss = 0.647185\n",
      "\t  Validation Loss = 0.589207. Error Rate = 32.000%\n",
      "\t 完成第1轮 耗时 1734.0776 s. 总耗时 = 1736.5193 s.\n",
      "轮次 #2\\4:\n",
      "batch 1\\3536: Loss = 0.371999\n",
      "batch 101\\3536: Loss = 0.773345\n",
      "batch 201\\3536: Loss = 0.334127\n",
      "batch 301\\3536: Loss = 0.381310\n",
      "batch 401\\3536: Loss = 0.248350\n",
      "batch 501\\3536: Loss = 0.539301\n",
      "batch 601\\3536: Loss = 0.422382\n",
      "batch 701\\3536: Loss = 0.587214\n",
      "batch 801\\3536: Loss = 0.320514\n",
      "batch 901\\3536: Loss = 0.388889\n",
      "batch 1001\\3536: Loss = 0.386607\n",
      "batch 1101\\3536: Loss = 0.355947\n",
      "batch 1201\\3536: Loss = 0.478125\n",
      "batch 1301\\3536: Loss = 0.525656\n",
      "batch 1401\\3536: Loss = 0.435717\n",
      "batch 1501\\3536: Loss = 0.259283\n",
      "batch 1601\\3536: Loss = 0.562591\n",
      "batch 1701\\3536: Loss = 0.420250\n",
      "batch 1801\\3536: Loss = 0.815677\n",
      "batch 1901\\3536: Loss = 0.229881\n",
      "batch 2001\\3536: Loss = 0.497810\n",
      "batch 2101\\3536: Loss = 0.338417\n",
      "batch 2201\\3536: Loss = 0.447758\n",
      "batch 2301\\3536: Loss = 0.223904\n",
      "batch 2401\\3536: Loss = 0.373335\n",
      "batch 2501\\3536: Loss = 0.543435\n",
      "batch 2601\\3536: Loss = 0.366392\n",
      "batch 2701\\3536: Loss = 0.521471\n",
      "batch 2801\\3536: Loss = 0.200650\n",
      "batch 2901\\3536: Loss = 0.131952\n",
      "batch 3001\\3536: Loss = 0.313508\n",
      "batch 3101\\3536: Loss = 0.462327\n",
      "batch 3201\\3536: Loss = 0.470707\n",
      "batch 3301\\3536: Loss = 0.464206\n",
      "batch 3401\\3536: Loss = 0.217403\n",
      "batch 3501\\3536: Loss = 0.686623\n",
      "\t  Validation Loss = 0.400495. Error Rate = 17.600%\n",
      "\t 完成第2轮 耗时 656.9564 s. 总耗时 = 2393.4757 s.\n",
      "轮次 #3\\4:\n",
      "batch 1\\3536: Loss = 0.512931\n",
      "batch 101\\3536: Loss = 0.721525\n",
      "batch 201\\3536: Loss = 0.609808\n",
      "batch 301\\3536: Loss = 0.378901\n",
      "batch 401\\3536: Loss = 0.251393\n",
      "batch 501\\3536: Loss = 0.663728\n",
      "batch 601\\3536: Loss = 0.519313\n",
      "batch 701\\3536: Loss = 1.937260\n",
      "batch 801\\3536: Loss = 0.237728\n",
      "batch 901\\3536: Loss = 0.372030\n",
      "batch 1001\\3536: Loss = 0.609294\n",
      "batch 1101\\3536: Loss = 0.244288\n",
      "batch 1201\\3536: Loss = 0.564624\n",
      "batch 1301\\3536: Loss = 0.381257\n",
      "batch 1401\\3536: Loss = 0.895847\n",
      "batch 1501\\3536: Loss = 0.481611\n",
      "batch 1601\\3536: Loss = 0.265144\n",
      "batch 1701\\3536: Loss = 0.336815\n",
      "batch 1801\\3536: Loss = 0.593438\n",
      "batch 1901\\3536: Loss = 0.824948\n",
      "batch 2001\\3536: Loss = 0.527966\n",
      "batch 2101\\3536: Loss = 0.304001\n",
      "batch 2201\\3536: Loss = 0.745772\n",
      "batch 2301\\3536: Loss = 0.592010\n",
      "batch 2401\\3536: Loss = 0.287337\n",
      "batch 2501\\3536: Loss = 0.272433\n",
      "batch 2601\\3536: Loss = 0.247454\n",
      "batch 2701\\3536: Loss = 0.448296\n",
      "batch 2801\\3536: Loss = 0.602566\n",
      "batch 2901\\3536: Loss = 0.441138\n",
      "batch 3001\\3536: Loss = 0.549637\n",
      "batch 3101\\3536: Loss = 0.366092\n",
      "batch 3201\\3536: Loss = 0.445734\n",
      "batch 3301\\3536: Loss = 0.177090\n",
      "batch 3401\\3536: Loss = 0.614246\n",
      "batch 3501\\3536: Loss = 0.462138\n",
      "\t  Validation Loss = 0.399890. Error Rate = 15.600%\n",
      "\t 完成第3轮 耗时 674.2238 s. 总耗时 = 3067.6995 s.\n",
      "轮次 #4\\4:\n",
      "batch 1\\3536: Loss = 0.429728\n",
      "batch 101\\3536: Loss = 0.655424\n",
      "batch 201\\3536: Loss = 0.628686\n",
      "batch 301\\3536: Loss = 0.428010\n",
      "batch 401\\3536: Loss = 0.679430\n",
      "batch 501\\3536: Loss = 0.364581\n",
      "batch 601\\3536: Loss = 0.179680\n",
      "batch 701\\3536: Loss = 0.013304\n",
      "batch 801\\3536: Loss = 0.328190\n",
      "batch 901\\3536: Loss = 0.662832\n",
      "batch 1001\\3536: Loss = 0.104672\n",
      "batch 1101\\3536: Loss = 0.012041\n",
      "batch 1201\\3536: Loss = 0.058668\n",
      "batch 1301\\3536: Loss = 0.156232\n",
      "batch 1401\\3536: Loss = 0.118336\n",
      "batch 1501\\3536: Loss = 0.368334\n",
      "batch 1601\\3536: Loss = 0.351919\n",
      "batch 1701\\3536: Loss = 1.125980\n",
      "batch 1801\\3536: Loss = 0.176240\n",
      "batch 1901\\3536: Loss = 0.309425\n",
      "batch 2001\\3536: Loss = 0.159515\n",
      "batch 2101\\3536: Loss = 0.277355\n",
      "batch 2201\\3536: Loss = 0.119411\n",
      "batch 2301\\3536: Loss = 0.575084\n",
      "batch 2401\\3536: Loss = 0.337314\n",
      "batch 2501\\3536: Loss = 0.504471\n",
      "batch 2601\\3536: Loss = 0.521840\n",
      "batch 2701\\3536: Loss = 0.233502\n",
      "batch 2801\\3536: Loss = 0.240728\n",
      "batch 2901\\3536: Loss = 0.580218\n",
      "batch 3001\\3536: Loss = 0.360176\n",
      "batch 3101\\3536: Loss = 0.282665\n",
      "batch 3201\\3536: Loss = 0.082050\n",
      "batch 3301\\3536: Loss = 0.205016\n",
      "batch 3401\\3536: Loss = 0.767109\n",
      "batch 3501\\3536: Loss = 14.348788\n",
      "\t  Validation Loss = 0.335984. Error Rate = 13.600%\n",
      "\t 完成第4轮 耗时 712.8663 s. 总耗时 = 3780.5658 s.\n"
     ]
    }
   ],
   "source": [
    "net=VGG().cuda()\n",
    "optimizer = optim.RMSprop(net.parameters(), lr=LR, alpha=0.9)\n",
    "LOSS_FUNC.cuda()\n",
    "#加载数据\n",
    "train_loader = data.DataLoader(train_data, batch_size=BATCH_SIZE, shuffle=True, num_workers=0)\n",
    "validate_loader = data.DataLoader(validate_data, batch_size=1, shuffle=False, num_workers=0)\n",
    "\n",
    "BATCH = len(train_loader)\n",
    "m = len(validate_loader)\n",
    "\n",
    "loss_list=list()\n",
    "for epoch in range(EPOCH):\n",
    "    EPOCH_START = time.time()\n",
    "    print(\"轮次 #{0}\\\\{1}:\".format(epoch+1,EPOCH))\n",
    "    \n",
    "    for batch,(x,y) in enumerate(train_loader):\n",
    "        optimizer.zero_grad()\n",
    "        t = net(x)\n",
    "        loss = LOSS_FUNC(t,y)\n",
    "        loss_list.append(loss)\n",
    "        if batch%100==0:\n",
    "            print(\"batch {0}\\\\{1}: \".format(batch+1,BATCH) + \"Loss = %.6f\"%float(loss))\n",
    "        loss.backward()\n",
    "        optimizer.step()\n",
    "    #保存每一epoch的模型\n",
    "    with torch.no_grad():\n",
    "        L = 0.\n",
    "        E = 0.\n",
    "        for batch,(x,y) in enumerate(validate_loader):\n",
    "            t = net(x)\n",
    "            L += float(LOSS_FUNC(t,y))\n",
    "            E += float((float(t[0][0])>0.5)!=y)\n",
    "        print(\"\\t  Validation Loss = %.6f. Error Rate = %.3f%%\"%(L/m,E*100/m))\n",
    "        if((epoch+1)%UPDATE==0):\n",
    "            torch.save(net.state_dict(),OUTPUT_PATH+\"\\\\{0}[{1}]\".format(net.name,epoch+1)+\"-L(%.6f)E(%.3f).pt\"%(L/m,E*100/m))\n",
    "            torch.save(optimizer.state_dict(),OUTPUT_PATH+\"\\\\{0}[{1}]\".format(net.name,epoch+1)+\"-L(%.6f)E(%.3f)-optimizer.pt\"%(L/m,E*100/m))\n",
    "    print(\"\\t 完成第{0}轮\".format(epoch+1)+\" 耗时 %.4f s.\"%(time.time()-EPOCH_START)+\n",
    "          \" 总耗时 = %.4f s.\"%(time.time()-PROGRAM_START))\n"
   ]
  },
  {
   "cell_type": "code",
   "execution_count": null,
   "metadata": {},
   "outputs": [],
   "source": [
    "\n",
    "prediction = []\n",
    "test_loader = data.DataLoader(test_data, batch_size=1, shuffle=False, num_workers=0)\n",
    "with torch.no_grad():\n",
    "    for i,(x,y) in enumerate(test_loader):\n",
    "        t = net(x)\n",
    "        prediction.append([i+1,float(t[0][0])])\n",
    "submission = pd.DataFrame(prediction)\n",
    "submission.columns = ['id','label']\n",
    "submission.to_csv(\"result.csv\",index=0)\n",
    "submission"
   ]
  },
  {
   "cell_type": "code",
   "execution_count": 31,
   "metadata": {
    "scrolled": true
   },
   "outputs": [
    {
     "data": {
      "text/plain": [
       "[<matplotlib.lines.Line2D at 0x14b313f4130>]"
      ]
     },
     "execution_count": 31,
     "metadata": {},
     "output_type": "execute_result"
    },
    {
     "data": {
      "image/png": "[encoded data removed]",
      "text/plain": [
       "<Figure size 432x288 with 1 Axes>"
      ]
     },
     "metadata": {
      "needs_background": "light"
     },
     "output_type": "display_data"
    }
   ],
   "source": [
    "def smooth_(list_i):\n",
    "    loss_int=list()\n",
    "    loss_int.append(list_i[0])\n",
    "    for i in range(1,len(list_i)):\n",
    "        loss_int.append(loss_int[-1]*0.99+list_i[i]*0.01)\n",
    "    return loss_int\n",
    "temp=loss_list[::10]\n",
    "k=smooth_(temp)\n",
    "for i in range(10):\n",
    "    k=smooth_(k)\n",
    "\n",
    "plt.plot(k)"
   ]
  },
  {
   "cell_type": "code",
   "execution_count": 33,
   "metadata": {},
   "outputs": [
    {
     "name": "stdout",
     "output_type": "stream",
     "text": [
      "VGG(\n",
      "  (conv): Sequential(\n",
      "    (0): Conv2d(3, 64, kernel_size=(3, 3), stride=(1, 1), padding=(1, 1))\n",
      "    (1): ReLU(inplace=True)\n",
      "    (2): Conv2d(64, 64, kernel_size=(3, 3), stride=(1, 1), padding=(1, 1))\n",
      "    (3): ReLU(inplace=True)\n",
      "    (4): MaxPool2d(kernel_size=2, stride=2, padding=0, dilation=1, ceil_mode=False)\n",
      "    (5): Conv2d(64, 128, kernel_size=(3, 3), stride=(1, 1), padding=(1, 1))\n",
      "    (6): ReLU(inplace=True)\n",
      "    (7): Conv2d(128, 128, kernel_size=(3, 3), stride=(1, 1), padding=(1, 1))\n",
      "    (8): ReLU(inplace=True)\n",
      "    (9): MaxPool2d(kernel_size=2, stride=2, padding=0, dilation=1, ceil_mode=False)\n",
      "    (10): Conv2d(128, 256, kernel_size=(3, 3), stride=(1, 1), padding=(1, 1))\n",
      "    (11): ReLU(inplace=True)\n",
      "    (12): Conv2d(256, 256, kernel_size=(3, 3), stride=(1, 1), padding=(1, 1))\n",
      "    (13): ReLU(inplace=True)\n",
      "    (14): Conv2d(256, 256, kernel_size=(3, 3), stride=(1, 1), padding=(1, 1))\n",
      "    (15): ReLU(inplace=True)\n",
      "    (16): MaxPool2d(kernel_size=2, stride=2, padding=0, dilation=1, ceil_mode=False)\n",
      "    (17): Conv2d(256, 512, kernel_size=(3, 3), stride=(1, 1), padding=(1, 1))\n",
      "    (18): ReLU(inplace=True)\n",
      "    (19): Conv2d(512, 512, kernel_size=(3, 3), stride=(1, 1), padding=(1, 1))\n",
      "    (20): ReLU(inplace=True)\n",
      "    (21): Conv2d(512, 512, kernel_size=(3, 3), stride=(1, 1), padding=(1, 1))\n",
      "    (22): ReLU(inplace=True)\n",
      "    (23): MaxPool2d(kernel_size=2, stride=2, padding=0, dilation=1, ceil_mode=False)\n",
      "    (24): Conv2d(512, 512, kernel_size=(3, 3), stride=(1, 1), padding=(1, 1))\n",
      "    (25): ReLU(inplace=True)\n",
      "    (26): Conv2d(512, 512, kernel_size=(3, 3), stride=(1, 1), padding=(1, 1))\n",
      "    (27): ReLU(inplace=True)\n",
      "    (28): Conv2d(512, 512, kernel_size=(3, 3), stride=(1, 1), padding=(1, 1))\n",
      "    (29): ReLU(inplace=True)\n",
      "    (30): MaxPool2d(kernel_size=2, stride=2, padding=0, dilation=1, ceil_mode=False)\n",
      "  )\n",
      "  (fc): Sequential(\n",
      "    (0): Linear(in_features=25088, out_features=4096, bias=True)\n",
      "    (1): ReLU()\n",
      "    (2): Dropout(p=0.5, inplace=False)\n",
      "    (3): Linear(in_features=4096, out_features=4096, bias=True)\n",
      "    (4): ReLU()\n",
      "    (5): Dropout(p=0.5, inplace=False)\n",
      "    (6): Linear(in_features=4096, out_features=1000, bias=True)\n",
      "    (7): ReLU()\n",
      "    (8): Linear(in_features=1000, out_features=1, bias=True)\n",
      "    (9): Sigmoid()\n",
      "  )\n",
      ")\n"
     ]
    }
   ],
   "source": [
    "print(net)"
   ]
  },
  {
   "cell_type": "code",
   "execution_count": null,
   "metadata": {},
   "outputs": [],
   "source": []
  }
 ],
 "metadata": {
  "kernelspec": {
   "display_name": "Python 3",
   "language": "python",
   "name": "python3"
  },
  "language_info": {
   "codemirror_mode": {
    "name": "ipython",
    "version": 3
   },
   "file_extension": ".py",
   "mimetype": "text/x-python",
   "name": "python",
   "nbconvert_exporter": "python",
   "pygments_lexer": "ipython3",
   "version": "3.8.5"
  }
 },
 "nbformat": 4,
 "nbformat_minor": 4
}
